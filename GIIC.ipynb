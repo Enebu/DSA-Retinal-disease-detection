{
 "cells": [
  {
   "cell_type": "code",
   "execution_count": 1,
   "id": "7d558938-8afd-4b8d-af20-0ce8f8dc80c3",
   "metadata": {},
   "outputs": [
    {
     "name": "stdout",
     "output_type": "stream",
     "text": [
      "Requirement already satisfied: tensorflow in c:\\users\\user\\anaconda3\\lib\\site-packages (2.18.0)\n",
      "Requirement already satisfied: opencv-python in c:\\users\\user\\anaconda3\\lib\\site-packages (4.11.0.86)\n",
      "Requirement already satisfied: pandas in c:\\users\\user\\anaconda3\\lib\\site-packages (2.2.2)\n",
      "Requirement already satisfied: numpy in c:\\users\\user\\anaconda3\\lib\\site-packages (1.26.4)\n",
      "Requirement already satisfied: matplotlib in c:\\users\\user\\anaconda3\\lib\\site-packages (3.9.2)\n",
      "Requirement already satisfied: seaborn in c:\\users\\user\\anaconda3\\lib\\site-packages (0.13.2)\n",
      "Requirement already satisfied: scikit-learn in c:\\users\\user\\anaconda3\\lib\\site-packages (1.5.1)\n",
      "Requirement already satisfied: tensorflow-intel==2.18.0 in c:\\users\\user\\anaconda3\\lib\\site-packages (from tensorflow) (2.18.0)\n",
      "Requirement already satisfied: absl-py>=1.0.0 in c:\\users\\user\\anaconda3\\lib\\site-packages (from tensorflow-intel==2.18.0->tensorflow) (2.1.0)\n",
      "Requirement already satisfied: astunparse>=1.6.0 in c:\\users\\user\\anaconda3\\lib\\site-packages (from tensorflow-intel==2.18.0->tensorflow) (1.6.3)\n",
      "Requirement already satisfied: flatbuffers>=24.3.25 in c:\\users\\user\\anaconda3\\lib\\site-packages (from tensorflow-intel==2.18.0->tensorflow) (25.1.24)\n",
      "Requirement already satisfied: gast!=0.5.0,!=0.5.1,!=0.5.2,>=0.2.1 in c:\\users\\user\\anaconda3\\lib\\site-packages (from tensorflow-intel==2.18.0->tensorflow) (0.6.0)\n",
      "Requirement already satisfied: google-pasta>=0.1.1 in c:\\users\\user\\anaconda3\\lib\\site-packages (from tensorflow-intel==2.18.0->tensorflow) (0.2.0)\n",
      "Requirement already satisfied: libclang>=13.0.0 in c:\\users\\user\\anaconda3\\lib\\site-packages (from tensorflow-intel==2.18.0->tensorflow) (18.1.1)\n",
      "Requirement already satisfied: opt-einsum>=2.3.2 in c:\\users\\user\\anaconda3\\lib\\site-packages (from tensorflow-intel==2.18.0->tensorflow) (3.4.0)\n",
      "Requirement already satisfied: packaging in c:\\users\\user\\appdata\\roaming\\python\\python312\\site-packages (from tensorflow-intel==2.18.0->tensorflow) (24.1)\n",
      "Requirement already satisfied: protobuf!=4.21.0,!=4.21.1,!=4.21.2,!=4.21.3,!=4.21.4,!=4.21.5,<6.0.0dev,>=3.20.3 in c:\\users\\user\\anaconda3\\lib\\site-packages (from tensorflow-intel==2.18.0->tensorflow) (4.25.3)\n",
      "Requirement already satisfied: requests<3,>=2.21.0 in c:\\users\\user\\anaconda3\\lib\\site-packages (from tensorflow-intel==2.18.0->tensorflow) (2.32.3)\n",
      "Requirement already satisfied: setuptools in c:\\users\\user\\anaconda3\\lib\\site-packages (from tensorflow-intel==2.18.0->tensorflow) (75.1.0)\n",
      "Requirement already satisfied: six>=1.12.0 in c:\\users\\user\\appdata\\roaming\\python\\python312\\site-packages (from tensorflow-intel==2.18.0->tensorflow) (1.16.0)\n",
      "Requirement already satisfied: termcolor>=1.1.0 in c:\\users\\user\\anaconda3\\lib\\site-packages (from tensorflow-intel==2.18.0->tensorflow) (2.5.0)\n",
      "Requirement already satisfied: typing-extensions>=3.6.6 in c:\\users\\user\\anaconda3\\lib\\site-packages (from tensorflow-intel==2.18.0->tensorflow) (4.11.0)\n",
      "Requirement already satisfied: wrapt>=1.11.0 in c:\\users\\user\\anaconda3\\lib\\site-packages (from tensorflow-intel==2.18.0->tensorflow) (1.14.1)\n",
      "Requirement already satisfied: grpcio<2.0,>=1.24.3 in c:\\users\\user\\anaconda3\\lib\\site-packages (from tensorflow-intel==2.18.0->tensorflow) (1.70.0)\n",
      "Requirement already satisfied: tensorboard<2.19,>=2.18 in c:\\users\\user\\anaconda3\\lib\\site-packages (from tensorflow-intel==2.18.0->tensorflow) (2.18.0)\n",
      "Requirement already satisfied: keras>=3.5.0 in c:\\users\\user\\anaconda3\\lib\\site-packages (from tensorflow-intel==2.18.0->tensorflow) (3.8.0)\n",
      "Requirement already satisfied: h5py>=3.11.0 in c:\\users\\user\\anaconda3\\lib\\site-packages (from tensorflow-intel==2.18.0->tensorflow) (3.11.0)\n",
      "Requirement already satisfied: ml-dtypes<0.5.0,>=0.4.0 in c:\\users\\user\\anaconda3\\lib\\site-packages (from tensorflow-intel==2.18.0->tensorflow) (0.4.1)\n",
      "Requirement already satisfied: python-dateutil>=2.8.2 in c:\\users\\user\\appdata\\roaming\\python\\python312\\site-packages (from pandas) (2.9.0.post0)\n",
      "Requirement already satisfied: pytz>=2020.1 in c:\\users\\user\\anaconda3\\lib\\site-packages (from pandas) (2024.1)\n",
      "Requirement already satisfied: tzdata>=2022.7 in c:\\users\\user\\anaconda3\\lib\\site-packages (from pandas) (2023.3)\n",
      "Requirement already satisfied: contourpy>=1.0.1 in c:\\users\\user\\anaconda3\\lib\\site-packages (from matplotlib) (1.2.0)\n",
      "Requirement already satisfied: cycler>=0.10 in c:\\users\\user\\anaconda3\\lib\\site-packages (from matplotlib) (0.11.0)\n",
      "Requirement already satisfied: fonttools>=4.22.0 in c:\\users\\user\\anaconda3\\lib\\site-packages (from matplotlib) (4.51.0)\n",
      "Requirement already satisfied: kiwisolver>=1.3.1 in c:\\users\\user\\anaconda3\\lib\\site-packages (from matplotlib) (1.4.4)\n",
      "Requirement already satisfied: pillow>=8 in c:\\users\\user\\anaconda3\\lib\\site-packages (from matplotlib) (10.4.0)\n",
      "Requirement already satisfied: pyparsing>=2.3.1 in c:\\users\\user\\anaconda3\\lib\\site-packages (from matplotlib) (3.1.2)\n",
      "Requirement already satisfied: scipy>=1.6.0 in c:\\users\\user\\anaconda3\\lib\\site-packages (from scikit-learn) (1.13.1)\n",
      "Requirement already satisfied: joblib>=1.2.0 in c:\\users\\user\\anaconda3\\lib\\site-packages (from scikit-learn) (1.4.2)\n",
      "Requirement already satisfied: threadpoolctl>=3.1.0 in c:\\users\\user\\anaconda3\\lib\\site-packages (from scikit-learn) (3.5.0)\n",
      "Requirement already satisfied: wheel<1.0,>=0.23.0 in c:\\users\\user\\anaconda3\\lib\\site-packages (from astunparse>=1.6.0->tensorflow-intel==2.18.0->tensorflow) (0.44.0)\n",
      "Requirement already satisfied: rich in c:\\users\\user\\anaconda3\\lib\\site-packages (from keras>=3.5.0->tensorflow-intel==2.18.0->tensorflow) (13.7.1)\n",
      "Requirement already satisfied: namex in c:\\users\\user\\anaconda3\\lib\\site-packages (from keras>=3.5.0->tensorflow-intel==2.18.0->tensorflow) (0.0.8)\n",
      "Requirement already satisfied: optree in c:\\users\\user\\anaconda3\\lib\\site-packages (from keras>=3.5.0->tensorflow-intel==2.18.0->tensorflow) (0.14.0)\n",
      "Requirement already satisfied: charset-normalizer<4,>=2 in c:\\users\\user\\anaconda3\\lib\\site-packages (from requests<3,>=2.21.0->tensorflow-intel==2.18.0->tensorflow) (3.3.2)\n",
      "Requirement already satisfied: idna<4,>=2.5 in c:\\users\\user\\anaconda3\\lib\\site-packages (from requests<3,>=2.21.0->tensorflow-intel==2.18.0->tensorflow) (3.7)\n",
      "Requirement already satisfied: urllib3<3,>=1.21.1 in c:\\users\\user\\anaconda3\\lib\\site-packages (from requests<3,>=2.21.0->tensorflow-intel==2.18.0->tensorflow) (2.2.3)\n",
      "Requirement already satisfied: certifi>=2017.4.17 in c:\\users\\user\\anaconda3\\lib\\site-packages (from requests<3,>=2.21.0->tensorflow-intel==2.18.0->tensorflow) (2024.8.30)\n",
      "Requirement already satisfied: markdown>=2.6.8 in c:\\users\\user\\anaconda3\\lib\\site-packages (from tensorboard<2.19,>=2.18->tensorflow-intel==2.18.0->tensorflow) (3.4.1)\n",
      "Requirement already satisfied: tensorboard-data-server<0.8.0,>=0.7.0 in c:\\users\\user\\anaconda3\\lib\\site-packages (from tensorboard<2.19,>=2.18->tensorflow-intel==2.18.0->tensorflow) (0.7.2)\n",
      "Requirement already satisfied: werkzeug>=1.0.1 in c:\\users\\user\\anaconda3\\lib\\site-packages (from tensorboard<2.19,>=2.18->tensorflow-intel==2.18.0->tensorflow) (3.0.3)\n",
      "Requirement already satisfied: MarkupSafe>=2.1.1 in c:\\users\\user\\anaconda3\\lib\\site-packages (from werkzeug>=1.0.1->tensorboard<2.19,>=2.18->tensorflow-intel==2.18.0->tensorflow) (2.1.3)\n",
      "Requirement already satisfied: markdown-it-py>=2.2.0 in c:\\users\\user\\anaconda3\\lib\\site-packages (from rich->keras>=3.5.0->tensorflow-intel==2.18.0->tensorflow) (2.2.0)\n",
      "Requirement already satisfied: pygments<3.0.0,>=2.13.0 in c:\\users\\user\\appdata\\roaming\\python\\python312\\site-packages (from rich->keras>=3.5.0->tensorflow-intel==2.18.0->tensorflow) (2.18.0)\n",
      "Requirement already satisfied: mdurl~=0.1 in c:\\users\\user\\anaconda3\\lib\\site-packages (from markdown-it-py>=2.2.0->rich->keras>=3.5.0->tensorflow-intel==2.18.0->tensorflow) (0.1.0)\n",
      "Note: you may need to restart the kernel to use updated packages.\n"
     ]
    }
   ],
   "source": [
    "pip install tensorflow opencv-python pandas numpy matplotlib seaborn scikit-learn"
   ]
  },
  {
   "cell_type": "code",
   "execution_count": 3,
   "id": "c6d33e43-c245-4a1a-a302-887804985e76",
   "metadata": {},
   "outputs": [],
   "source": [
    "import os\n",
    "import cv2\n",
    "import pandas as pd\n",
    "import numpy as np\n",
    "import matplotlib.pyplot as plt\n",
    "import seaborn as sns\n",
    "from sklearn.model_selection import train_test_split\n",
    "from sklearn.preprocessing import LabelEncoder\n",
    "import tensorflow as tf\n",
    "from tensorflow.keras.applications import ResNet50\n",
    "from tensorflow.keras.layers import Dense, GlobalAveragePooling2D, Dropout, BatchNormalization  # Import BatchNormalization\n",
    "from tensorflow.keras.models import Model\n",
    "from tensorflow.keras.optimizers import Adam\n",
    "from tensorflow.keras.preprocessing.image import ImageDataGenerator\n",
    "from tensorflow.keras.callbacks import LearningRateScheduler, ModelCheckpoint\n",
    "from tensorflow.keras.regularizers import l2  # Import l2 regularizer"
   ]
  },
  {
   "cell_type": "code",
   "execution_count": 5,
   "id": "71ecdcb8-38d3-4466-91c2-8e718acb3fac",
   "metadata": {},
   "outputs": [
    {
     "name": "stdout",
     "output_type": "stream",
     "text": [
      "   ID  Patient Age Patient Sex Left-Fundus Right-Fundus  \\\n",
      "0   0           69      Female  0_left.jpg  0_right.jpg   \n",
      "1   1           57        Male  1_left.jpg  1_right.jpg   \n",
      "2   2           42        Male  2_left.jpg  2_right.jpg   \n",
      "3   4           53        Male  4_left.jpg  4_right.jpg   \n",
      "4   5           50      Female  5_left.jpg  5_right.jpg   \n",
      "\n",
      "                            Left-Diagnostic Keywords  \\\n",
      "0                                           cataract   \n",
      "1                                      normal fundus   \n",
      "2  laser spot，moderate non proliferative retinopathy   \n",
      "3                        macular epiretinal membrane   \n",
      "4             moderate non proliferative retinopathy   \n",
      "\n",
      "                Right-Diagnostic Keywords  N  D  G  C  A  H  M  O  \\\n",
      "0                           normal fundus  0  0  0  1  0  0  0  0   \n",
      "1                           normal fundus  1  0  0  0  0  0  0  0   \n",
      "2  moderate non proliferative retinopathy  0  1  0  0  0  0  0  1   \n",
      "3       mild nonproliferative retinopathy  0  1  0  0  0  0  0  1   \n",
      "4  moderate non proliferative retinopathy  0  1  0  0  0  0  0  0   \n",
      "\n",
      "                                            filepath labels  \\\n",
      "0  ../input/ocular-disease-recognition-odir5k/ODI...  ['N']   \n",
      "1  ../input/ocular-disease-recognition-odir5k/ODI...  ['N']   \n",
      "2  ../input/ocular-disease-recognition-odir5k/ODI...  ['D']   \n",
      "3  ../input/ocular-disease-recognition-odir5k/ODI...  ['D']   \n",
      "4  ../input/ocular-disease-recognition-odir5k/ODI...  ['D']   \n",
      "\n",
      "                     target     filename  \n",
      "0  [1, 0, 0, 0, 0, 0, 0, 0]  0_right.jpg  \n",
      "1  [1, 0, 0, 0, 0, 0, 0, 0]  1_right.jpg  \n",
      "2  [0, 1, 0, 0, 0, 0, 0, 0]  2_right.jpg  \n",
      "3  [0, 1, 0, 0, 0, 0, 0, 0]  4_right.jpg  \n",
      "4  [0, 1, 0, 0, 0, 0, 0, 0]  5_right.jpg  \n"
     ]
    }
   ],
   "source": [
    "df = pd.read_csv(r\"C:\\Users\\USER\\Documents\\NITDA\\Data science advanced\\DSA project\\ODIR\\full_df.csv\")\n",
    "print(df.head())"
   ]
  },
  {
   "cell_type": "code",
   "execution_count": 7,
   "id": "5ad6656e-aed1-4e2a-b56a-0361f44c5ae4",
   "metadata": {},
   "outputs": [
    {
     "name": "stdout",
     "output_type": "stream",
     "text": [
      "<class 'pandas.core.frame.DataFrame'>\n",
      "RangeIndex: 6392 entries, 0 to 6391\n",
      "Data columns (total 19 columns):\n",
      " #   Column                     Non-Null Count  Dtype \n",
      "---  ------                     --------------  ----- \n",
      " 0   ID                         6392 non-null   int64 \n",
      " 1   Patient Age                6392 non-null   int64 \n",
      " 2   Patient Sex                6392 non-null   object\n",
      " 3   Left-Fundus                6392 non-null   object\n",
      " 4   Right-Fundus               6392 non-null   object\n",
      " 5   Left-Diagnostic Keywords   6392 non-null   object\n",
      " 6   Right-Diagnostic Keywords  6392 non-null   object\n",
      " 7   N                          6392 non-null   int64 \n",
      " 8   D                          6392 non-null   int64 \n",
      " 9   G                          6392 non-null   int64 \n",
      " 10  C                          6392 non-null   int64 \n",
      " 11  A                          6392 non-null   int64 \n",
      " 12  H                          6392 non-null   int64 \n",
      " 13  M                          6392 non-null   int64 \n",
      " 14  O                          6392 non-null   int64 \n",
      " 15  filepath                   6392 non-null   object\n",
      " 16  labels                     6392 non-null   object\n",
      " 17  target                     6392 non-null   object\n",
      " 18  filename                   6392 non-null   object\n",
      "dtypes: int64(10), object(9)\n",
      "memory usage: 948.9+ KB\n"
     ]
    }
   ],
   "source": [
    "df.info()"
   ]
  },
  {
   "cell_type": "code",
   "execution_count": 9,
   "id": "a0dbe19a-3d9e-4ac5-a610-ed8a42fe7791",
   "metadata": {},
   "outputs": [
    {
     "data": {
      "text/html": [
       "<div>\n",
       "<style scoped>\n",
       "    .dataframe tbody tr th:only-of-type {\n",
       "        vertical-align: middle;\n",
       "    }\n",
       "\n",
       "    .dataframe tbody tr th {\n",
       "        vertical-align: top;\n",
       "    }\n",
       "\n",
       "    .dataframe thead th {\n",
       "        text-align: right;\n",
       "    }\n",
       "</style>\n",
       "<table border=\"1\" class=\"dataframe\">\n",
       "  <thead>\n",
       "    <tr style=\"text-align: right;\">\n",
       "      <th></th>\n",
       "      <th>ID</th>\n",
       "      <th>Patient Age</th>\n",
       "      <th>N</th>\n",
       "      <th>D</th>\n",
       "      <th>G</th>\n",
       "      <th>C</th>\n",
       "      <th>A</th>\n",
       "      <th>H</th>\n",
       "      <th>M</th>\n",
       "      <th>O</th>\n",
       "    </tr>\n",
       "  </thead>\n",
       "  <tbody>\n",
       "    <tr>\n",
       "      <th>count</th>\n",
       "      <td>6392.000000</td>\n",
       "      <td>6392.000000</td>\n",
       "      <td>6392.000000</td>\n",
       "      <td>6392.000000</td>\n",
       "      <td>6392.000000</td>\n",
       "      <td>6392.000000</td>\n",
       "      <td>6392.000000</td>\n",
       "      <td>6392.000000</td>\n",
       "      <td>6392.000000</td>\n",
       "      <td>6392.000000</td>\n",
       "    </tr>\n",
       "    <tr>\n",
       "      <th>mean</th>\n",
       "      <td>2271.150814</td>\n",
       "      <td>57.857947</td>\n",
       "      <td>0.328692</td>\n",
       "      <td>0.332134</td>\n",
       "      <td>0.062109</td>\n",
       "      <td>0.062891</td>\n",
       "      <td>0.049906</td>\n",
       "      <td>0.031758</td>\n",
       "      <td>0.047872</td>\n",
       "      <td>0.248436</td>\n",
       "    </tr>\n",
       "    <tr>\n",
       "      <th>std</th>\n",
       "      <td>1417.559018</td>\n",
       "      <td>11.727737</td>\n",
       "      <td>0.469775</td>\n",
       "      <td>0.471016</td>\n",
       "      <td>0.241372</td>\n",
       "      <td>0.242786</td>\n",
       "      <td>0.217768</td>\n",
       "      <td>0.175370</td>\n",
       "      <td>0.213513</td>\n",
       "      <td>0.432139</td>\n",
       "    </tr>\n",
       "    <tr>\n",
       "      <th>min</th>\n",
       "      <td>0.000000</td>\n",
       "      <td>1.000000</td>\n",
       "      <td>0.000000</td>\n",
       "      <td>0.000000</td>\n",
       "      <td>0.000000</td>\n",
       "      <td>0.000000</td>\n",
       "      <td>0.000000</td>\n",
       "      <td>0.000000</td>\n",
       "      <td>0.000000</td>\n",
       "      <td>0.000000</td>\n",
       "    </tr>\n",
       "    <tr>\n",
       "      <th>25%</th>\n",
       "      <td>920.750000</td>\n",
       "      <td>51.000000</td>\n",
       "      <td>0.000000</td>\n",
       "      <td>0.000000</td>\n",
       "      <td>0.000000</td>\n",
       "      <td>0.000000</td>\n",
       "      <td>0.000000</td>\n",
       "      <td>0.000000</td>\n",
       "      <td>0.000000</td>\n",
       "      <td>0.000000</td>\n",
       "    </tr>\n",
       "    <tr>\n",
       "      <th>50%</th>\n",
       "      <td>2419.500000</td>\n",
       "      <td>59.000000</td>\n",
       "      <td>0.000000</td>\n",
       "      <td>0.000000</td>\n",
       "      <td>0.000000</td>\n",
       "      <td>0.000000</td>\n",
       "      <td>0.000000</td>\n",
       "      <td>0.000000</td>\n",
       "      <td>0.000000</td>\n",
       "      <td>0.000000</td>\n",
       "    </tr>\n",
       "    <tr>\n",
       "      <th>75%</th>\n",
       "      <td>3294.000000</td>\n",
       "      <td>66.000000</td>\n",
       "      <td>1.000000</td>\n",
       "      <td>1.000000</td>\n",
       "      <td>0.000000</td>\n",
       "      <td>0.000000</td>\n",
       "      <td>0.000000</td>\n",
       "      <td>0.000000</td>\n",
       "      <td>0.000000</td>\n",
       "      <td>0.000000</td>\n",
       "    </tr>\n",
       "    <tr>\n",
       "      <th>max</th>\n",
       "      <td>4784.000000</td>\n",
       "      <td>91.000000</td>\n",
       "      <td>1.000000</td>\n",
       "      <td>1.000000</td>\n",
       "      <td>1.000000</td>\n",
       "      <td>1.000000</td>\n",
       "      <td>1.000000</td>\n",
       "      <td>1.000000</td>\n",
       "      <td>1.000000</td>\n",
       "      <td>1.000000</td>\n",
       "    </tr>\n",
       "  </tbody>\n",
       "</table>\n",
       "</div>"
      ],
      "text/plain": [
       "                ID  Patient Age            N            D            G  \\\n",
       "count  6392.000000  6392.000000  6392.000000  6392.000000  6392.000000   \n",
       "mean   2271.150814    57.857947     0.328692     0.332134     0.062109   \n",
       "std    1417.559018    11.727737     0.469775     0.471016     0.241372   \n",
       "min       0.000000     1.000000     0.000000     0.000000     0.000000   \n",
       "25%     920.750000    51.000000     0.000000     0.000000     0.000000   \n",
       "50%    2419.500000    59.000000     0.000000     0.000000     0.000000   \n",
       "75%    3294.000000    66.000000     1.000000     1.000000     0.000000   \n",
       "max    4784.000000    91.000000     1.000000     1.000000     1.000000   \n",
       "\n",
       "                 C            A            H            M            O  \n",
       "count  6392.000000  6392.000000  6392.000000  6392.000000  6392.000000  \n",
       "mean      0.062891     0.049906     0.031758     0.047872     0.248436  \n",
       "std       0.242786     0.217768     0.175370     0.213513     0.432139  \n",
       "min       0.000000     0.000000     0.000000     0.000000     0.000000  \n",
       "25%       0.000000     0.000000     0.000000     0.000000     0.000000  \n",
       "50%       0.000000     0.000000     0.000000     0.000000     0.000000  \n",
       "75%       0.000000     0.000000     0.000000     0.000000     0.000000  \n",
       "max       1.000000     1.000000     1.000000     1.000000     1.000000  "
      ]
     },
     "execution_count": 9,
     "metadata": {},
     "output_type": "execute_result"
    }
   ],
   "source": [
    "df.describe()"
   ]
  },
  {
   "cell_type": "code",
   "execution_count": 11,
   "id": "53d42a6f-5cb5-44f2-93fe-6af472eb8dda",
   "metadata": {},
   "outputs": [
    {
     "data": {
      "text/plain": [
       "Index(['ID', 'Patient Age', 'Patient Sex', 'Left-Fundus', 'Right-Fundus',\n",
       "       'Left-Diagnostic Keywords', 'Right-Diagnostic Keywords', 'N', 'D', 'G',\n",
       "       'C', 'A', 'H', 'M', 'O', 'filepath', 'labels', 'target', 'filename'],\n",
       "      dtype='object')"
      ]
     },
     "execution_count": 11,
     "metadata": {},
     "output_type": "execute_result"
    }
   ],
   "source": [
    "df.columns"
   ]
  },
  {
   "cell_type": "code",
   "execution_count": 13,
   "id": "2772e12e-6616-4c7d-9fcc-6683903757e1",
   "metadata": {},
   "outputs": [
    {
     "data": {
      "text/plain": [
       "<Axes: xlabel='labels', ylabel='Patient Age'>"
      ]
     },
     "execution_count": 13,
     "metadata": {},
     "output_type": "execute_result"
    },
    {
     "data": {
      "image/png": "[encoded data removed]",
      "text/plain": [
       "<Figure size 640x480 with 1 Axes>"
      ]
     },
     "metadata": {},
     "output_type": "display_data"
    }
   ],
   "source": [
    "sns.barplot(data=df, x=\"labels\", y=\"Patient Age\", hue=\"Patient Sex\", palette={\"Male\": \"blue\", \"Female\": \"red\"})"
   ]
  },
  {
   "cell_type": "code",
   "execution_count": 15,
   "id": "590e3adc-f3d0-4a8e-b614-1235e89aaece",
   "metadata": {},
   "outputs": [
    {
     "data": {
      "image/png": "[encoded data removed]",
      "text/plain": [
       "<Figure size 600x600 with 1 Axes>"
      ]
     },
     "metadata": {},
     "output_type": "display_data"
    }
   ],
   "source": [
    "plt.figure(figsize=(6,6))\n",
    "plt.pie(df['labels'].value_counts(), autopct=\"%0.1f%%\",  # Fixed %0.1F to %0.1f\n",
    "       labels=['Normal','Diabetes','Glaucoma','Cataract','Age related Macular Degeneration','Hypertension',\n",
    "                'Pathological Myopia','Other diseases/abnormalities'],\n",
    "       explode=[0.2, 0.09, 0, 0, 0, 0, 0, 0], shadow=False)  # Removed shadow\n",
    "plt.show()"
   ]
  },
  {
   "cell_type": "code",
   "execution_count": 17,
   "id": "dc902219-a298-468e-9bbf-85dbea94287d",
   "metadata": {},
   "outputs": [
    {
     "data": {
      "image/png": "[encoded data removed]",
      "text/plain": [
       "<Figure size 600x600 with 1 Axes>"
      ]
     },
     "metadata": {},
     "output_type": "display_data"
    }
   ],
   "source": [
    "plt.figure(figsize=(6, 6))\n",
    "sns.histplot(data=df, x=\"Patient Age\")  # Removed unnecessary indentation\n",
    "plt.show()"
   ]
  },
  {
   "cell_type": "code",
   "execution_count": 19,
   "id": "74324e84-b6a8-49d8-b7f4-65767fb89556",
   "metadata": {},
   "outputs": [
    {
     "data": {
      "image/png": "[encoded data removed]",
      "text/plain": [
       "<Figure size 600x600 with 1 Axes>"
      ]
     },
     "metadata": {},
     "output_type": "display_data"
    }
   ],
   "source": [
    "sex_counts = df['Patient Sex'].value_counts().reset_index()\n",
    "\n",
    "sex_counts.columns = ['Sex', 'Count']\n",
    "\n",
    "plt.figure(figsize=(6,6))\n",
    "sns.barplot(x='Sex', y='Count', data=sex_counts, color='r', width=0.5)\n",
    "plt.show()"
   ]
  },
  {
   "cell_type": "code",
   "execution_count": 21,
   "id": "f469ac9f-f47c-4bca-ac46-29e3a348eb74",
   "metadata": {},
   "outputs": [
    {
     "name": "stdout",
     "output_type": "stream",
     "text": [
      "Index(['ID', 'Patient Age', 'Patient Sex', 'Left-Fundus', 'Right-Fundus',\n",
      "       'Left-Diagnostic Keywords', 'Right-Diagnostic Keywords', 'N', 'D', 'G',\n",
      "       'C', 'A', 'H', 'M', 'O', 'filepath', 'labels', 'target', 'filename'],\n",
      "      dtype='object')\n"
     ]
    }
   ],
   "source": [
    "print(df.columns)  # List all available column names"
   ]
  },
  {
   "cell_type": "code",
   "execution_count": 23,
   "id": "1b3c45bc-4aa6-4e05-8325-20d259d1719e",
   "metadata": {},
   "outputs": [],
   "source": [
    "# Encode labels into numerical values\n",
    "encoder = LabelEncoder()\n",
    "df['labels'] = encoder.fit_transform(df['labels'])\n",
    "df['labels'] = df['labels'].astype(str)"
   ]
  },
  {
   "cell_type": "code",
   "execution_count": 25,
   "id": "676a1805-93b0-4f97-909a-5c7d854a761f",
   "metadata": {},
   "outputs": [],
   "source": [
    "# Combine left and right fundus images\n",
    "left_images = df[['Left-Fundus', 'labels']]\n",
    "right_images = df[['Right-Fundus', 'labels']]\n",
    "\n",
    "left_images.columns = ['image', 'target']\n",
    "right_images.columns = ['image', 'target']\n",
    "\n",
    "combined_df = pd.concat([left_images, right_images])\n",
    "combined_df = combined_df.dropna(subset=['image'])"
   ]
  },
  {
   "cell_type": "code",
   "execution_count": 27,
   "id": "cb0eabba-935e-46e2-98bb-d711aef8cc91",
   "metadata": {},
   "outputs": [],
   "source": [
    "# Split into training and testing sets\n",
    "train_df, test_df = train_test_split(combined_df, test_size=0.2, random_state=42)"
   ]
  },
  {
   "cell_type": "code",
   "execution_count": 29,
   "id": "908e6d65-1026-4757-8a79-7e279c2799c6",
   "metadata": {},
   "outputs": [],
   "source": [
    "# Data augmentation for training\n",
    "train_datagen = ImageDataGenerator(\n",
    "    rescale=1./255,\n",
    "    rotation_range=30,\n",
    "    width_shift_range=0.2,\n",
    "    height_shift_range=0.2,\n",
    "    shear_range=0.2,\n",
    "    zoom_range=0.2,\n",
    "    horizontal_flip=True,\n",
    "    vertical_flip=True,\n",
    "    fill_mode='nearest'\n",
    ")"
   ]
  },
  {
   "cell_type": "code",
   "execution_count": 31,
   "id": "e0ccf62e-572b-4285-ae7d-5c034c096323",
   "metadata": {},
   "outputs": [],
   "source": [
    "# Validation data (only rescaling)\n",
    "val_datagen = ImageDataGenerator(rescale=1./255)"
   ]
  },
  {
   "cell_type": "code",
   "execution_count": 33,
   "id": "883e59bc-24f1-4ef1-b45f-96985b2ffc74",
   "metadata": {},
   "outputs": [
    {
     "name": "stdout",
     "output_type": "stream",
     "text": [
      "Found 10227 validated image filenames belonging to 8 classes.\n",
      "Found 2557 validated image filenames belonging to 8 classes.\n"
     ]
    }
   ],
   "source": [
    "# Create data generators\n",
    "train_generator = train_datagen.flow_from_dataframe(\n",
    "    dataframe=train_df,\n",
    "    directory=r\"C:\\Users\\USER\\Documents\\NITDA\\Data science advanced\\DSA project\\ODIR\\ODIR-5K\\ODIR-5K\\Training Images\",\n",
    "    x_col='image',\n",
    "    y_col='target',\n",
    "    class_mode='categorical',\n",
    "    target_size=(224, 224),\n",
    "    batch_size=32\n",
    ")\n",
    "\n",
    "val_generator = val_datagen.flow_from_dataframe(\n",
    "    dataframe=test_df,\n",
    "    directory=r\"C:\\Users\\USER\\Documents\\NITDA\\Data science advanced\\DSA project\\ODIR\\ODIR-5K\\ODIR-5K\\Training Images\",\n",
    "    x_col='image',\n",
    "    y_col='target',\n",
    "    class_mode='categorical',\n",
    "    target_size=(224, 224),\n",
    "    batch_size=32\n",
    ")"
   ]
  },
  {
   "cell_type": "code",
   "execution_count": 35,
   "id": "8180d98e-548b-4ee8-8df1-4fa1ff594426",
   "metadata": {},
   "outputs": [],
   "source": [
    "# Load ResNet50 with pre-trained weights (excluding the top layers)\n",
    "base_model = ResNet50(weights='imagenet', include_top=False, input_shape=(224, 224, 3))\n",
    "\n",
    "# Freeze the base model layers initially\n",
    "base_model.trainable = False"
   ]
  },
  {
   "cell_type": "code",
   "execution_count": 37,
   "id": "27b2dfed-6cc9-4811-9c37-3c98e3333068",
   "metadata": {},
   "outputs": [],
   "source": [
    "# Add custom layers on top of ResNet50\n",
    "x = base_model.output\n",
    "x = GlobalAveragePooling2D()(x)\n",
    "x = Dense(1024, activation='relu', kernel_regularizer=l2(0.01))(x)\n",
    "x = BatchNormalization()(x)\n",
    "x = Dropout(0.5)(x)\n",
    "x = Dense(512, activation='relu', kernel_regularizer=l2(0.01))(x)\n",
    "x = BatchNormalization()(x)\n",
    "x = Dropout(0.5)(x)\n",
    "predictions = Dense(8, activation='softmax')(x)  # 8 classes for ocular diseases"
   ]
  },
  {
   "cell_type": "code",
   "execution_count": 39,
   "id": "01f3e0e2-ccaf-40a1-9112-57010ebf3a13",
   "metadata": {},
   "outputs": [],
   "source": [
    "# Create the final model\n",
    "model = Model(inputs=base_model.input, outputs=predictions)\n",
    "\n",
    "# Compile the model\n",
    "model.compile(\n",
    "    optimizer=Adam(learning_rate=0.0001),\n",
    "    loss='categorical_crossentropy',\n",
    "    metrics=['accuracy', tf.keras.metrics.Precision(), tf.keras.metrics.Recall()]\n",
    ")"
   ]
  },
  {
   "cell_type": "code",
   "execution_count": 41,
   "id": "74f33ed2-2169-41b7-b5f9-6d4fb9cc7be9",
   "metadata": {},
   "outputs": [
    {
     "name": "stderr",
     "output_type": "stream",
     "text": [
      "C:\\Users\\USER\\anaconda3\\Lib\\site-packages\\keras\\src\\trainers\\data_adapters\\py_dataset_adapter.py:121: UserWarning: Your `PyDataset` class should call `super().__init__(**kwargs)` in its constructor. `**kwargs` can include `workers`, `use_multiprocessing`, `max_queue_size`. Do not pass these arguments to `fit()`, as they will be ignored.\n",
      "  self._warn_if_super_not_called()\n"
     ]
    },
    {
     "name": "stdout",
     "output_type": "stream",
     "text": [
      "Epoch 1/20\n",
      "\u001b[1m320/320\u001b[0m \u001b[32m━━━━━━━━━━━━━━━━━━━━\u001b[0m\u001b[37m\u001b[0m \u001b[1m1463s\u001b[0m 5s/step - accuracy: 0.1330 - loss: 23.0342 - precision: 0.1294 - recall: 0.0530 - val_accuracy: 0.4337 - val_loss: 19.7706 - val_precision: 0.0000e+00 - val_recall: 0.0000e+00 - learning_rate: 1.0000e-05\n",
      "Epoch 2/20\n",
      "\u001b[1m320/320\u001b[0m \u001b[32m━━━━━━━━━━━━━━━━━━━━\u001b[0m\u001b[37m\u001b[0m \u001b[1m1511s\u001b[0m 5s/step - accuracy: 0.1439 - loss: 20.4734 - precision: 0.1456 - recall: 0.0592 - val_accuracy: 0.1600 - val_loss: 17.9396 - val_precision: 0.2182 - val_recall: 0.0047 - learning_rate: 1.0000e-05\n",
      "Epoch 3/20\n",
      "\u001b[1m320/320\u001b[0m \u001b[32m━━━━━━━━━━━━━━━━━━━━\u001b[0m\u001b[37m\u001b[0m \u001b[1m1526s\u001b[0m 5s/step - accuracy: 0.1568 - loss: 18.3459 - precision: 0.1590 - recall: 0.0628 - val_accuracy: 0.1193 - val_loss: 16.3336 - val_precision: 0.1447 - val_recall: 0.0086 - learning_rate: 1.0000e-05\n",
      "Epoch 4/20\n",
      "\u001b[1m320/320\u001b[0m \u001b[32m━━━━━━━━━━━━━━━━━━━━\u001b[0m\u001b[37m\u001b[0m \u001b[1m1494s\u001b[0m 5s/step - accuracy: 0.1631 - loss: 16.5892 - precision: 0.1752 - recall: 0.0676 - val_accuracy: 0.1807 - val_loss: 14.7758 - val_precision: 0.2473 - val_recall: 0.0176 - learning_rate: 1.0000e-05\n",
      "Epoch 5/20\n",
      "\u001b[1m320/320\u001b[0m \u001b[32m━━━━━━━━━━━━━━━━━━━━\u001b[0m\u001b[37m\u001b[0m \u001b[1m1523s\u001b[0m 5s/step - accuracy: 0.1804 - loss: 15.0702 - precision: 0.1972 - recall: 0.0749 - val_accuracy: 0.2476 - val_loss: 13.4047 - val_precision: 0.1353 - val_recall: 0.0090 - learning_rate: 1.0000e-05\n",
      "Epoch 6/20\n",
      "\u001b[1m320/320\u001b[0m \u001b[32m━━━━━━━━━━━━━━━━━━━━\u001b[0m\u001b[37m\u001b[0m \u001b[1m1529s\u001b[0m 5s/step - accuracy: 0.1815 - loss: 14.0871 - precision: 0.1981 - recall: 0.0730 - val_accuracy: 0.3438 - val_loss: 13.1832 - val_precision: 0.1488 - val_recall: 0.0098 - learning_rate: 1.0000e-06\n",
      "Epoch 7/20\n",
      "\u001b[1m320/320\u001b[0m \u001b[32m━━━━━━━━━━━━━━━━━━━━\u001b[0m\u001b[37m\u001b[0m \u001b[1m1567s\u001b[0m 5s/step - accuracy: 0.1802 - loss: 13.9742 - precision: 0.1894 - recall: 0.0685 - val_accuracy: 0.3664 - val_loss: 13.0401 - val_precision: 0.1754 - val_recall: 0.0117 - learning_rate: 1.0000e-06\n",
      "Epoch 8/20\n",
      "\u001b[1m320/320\u001b[0m \u001b[32m━━━━━━━━━━━━━━━━━━━━\u001b[0m\u001b[37m\u001b[0m \u001b[1m1619s\u001b[0m 5s/step - accuracy: 0.1787 - loss: 13.8801 - precision: 0.1972 - recall: 0.0728 - val_accuracy: 0.3578 - val_loss: 12.9396 - val_precision: 0.1730 - val_recall: 0.0125 - learning_rate: 1.0000e-06\n",
      "Epoch 9/20\n",
      "\u001b[1m320/320\u001b[0m \u001b[32m━━━━━━━━━━━━━━━━━━━━\u001b[0m\u001b[37m\u001b[0m \u001b[1m1598s\u001b[0m 5s/step - accuracy: 0.1761 - loss: 13.7342 - precision: 0.1987 - recall: 0.0725 - val_accuracy: 0.3555 - val_loss: 12.8070 - val_precision: 0.1850 - val_recall: 0.0125 - learning_rate: 1.0000e-06\n",
      "Epoch 10/20\n",
      "\u001b[1m320/320\u001b[0m \u001b[32m━━━━━━━━━━━━━━━━━━━━\u001b[0m\u001b[37m\u001b[0m \u001b[1m1611s\u001b[0m 5s/step - accuracy: 0.1816 - loss: 13.5961 - precision: 0.2081 - recall: 0.0746 - val_accuracy: 0.3782 - val_loss: 12.6550 - val_precision: 0.2031 - val_recall: 0.0153 - learning_rate: 1.0000e-06\n",
      "Epoch 11/20\n",
      "\u001b[1m320/320\u001b[0m \u001b[32m━━━━━━━━━━━━━━━━━━━━\u001b[0m\u001b[37m\u001b[0m \u001b[1m1511s\u001b[0m 5s/step - accuracy: 0.1837 - loss: 13.5039 - precision: 0.2143 - recall: 0.0780 - val_accuracy: 0.3750 - val_loss: 12.6633 - val_precision: 0.2040 - val_recall: 0.0160 - learning_rate: 1.0000e-07\n",
      "Epoch 12/20\n",
      "\u001b[1m320/320\u001b[0m \u001b[32m━━━━━━━━━━━━━━━━━━━━\u001b[0m\u001b[37m\u001b[0m \u001b[1m1518s\u001b[0m 5s/step - accuracy: 0.1788 - loss: 13.5345 - precision: 0.1986 - recall: 0.0699 - val_accuracy: 0.3797 - val_loss: 12.6290 - val_precision: 0.2043 - val_recall: 0.0149 - learning_rate: 1.0000e-07\n",
      "Epoch 13/20\n",
      "\u001b[1m320/320\u001b[0m \u001b[32m━━━━━━━━━━━━━━━━━━━━\u001b[0m\u001b[37m\u001b[0m \u001b[1m1504s\u001b[0m 5s/step - accuracy: 0.1819 - loss: 13.5004 - precision: 0.2062 - recall: 0.0741 - val_accuracy: 0.3782 - val_loss: 12.6219 - val_precision: 0.2022 - val_recall: 0.0145 - learning_rate: 1.0000e-07\n",
      "Epoch 14/20\n",
      "\u001b[1m320/320\u001b[0m \u001b[32m━━━━━━━━━━━━━━━━━━━━\u001b[0m\u001b[37m\u001b[0m \u001b[1m1510s\u001b[0m 5s/step - accuracy: 0.1857 - loss: 13.4536 - precision: 0.1998 - recall: 0.0705 - val_accuracy: 0.3750 - val_loss: 12.6134 - val_precision: 0.2030 - val_recall: 0.0156 - learning_rate: 1.0000e-07\n",
      "Epoch 15/20\n",
      "\u001b[1m320/320\u001b[0m \u001b[32m━━━━━━━━━━━━━━━━━━━━\u001b[0m\u001b[37m\u001b[0m \u001b[1m1520s\u001b[0m 5s/step - accuracy: 0.1895 - loss: 13.4291 - precision: 0.2039 - recall: 0.0726 - val_accuracy: 0.3774 - val_loss: 12.5928 - val_precision: 0.2053 - val_recall: 0.0153 - learning_rate: 1.0000e-07\n",
      "Epoch 16/20\n",
      "\u001b[1m320/320\u001b[0m \u001b[32m━━━━━━━━━━━━━━━━━━━━\u001b[0m\u001b[37m\u001b[0m \u001b[1m1491s\u001b[0m 5s/step - accuracy: 0.1780 - loss: 13.4217 - precision: 0.1986 - recall: 0.0726 - val_accuracy: 0.3778 - val_loss: 12.5990 - val_precision: 0.1882 - val_recall: 0.0137 - learning_rate: 1.0000e-08\n",
      "Epoch 17/20\n",
      "\u001b[1m320/320\u001b[0m \u001b[32m━━━━━━━━━━━━━━━━━━━━\u001b[0m\u001b[37m\u001b[0m \u001b[1m1476s\u001b[0m 5s/step - accuracy: 0.1742 - loss: 13.4621 - precision: 0.1882 - recall: 0.0685 - val_accuracy: 0.3790 - val_loss: 12.5952 - val_precision: 0.1978 - val_recall: 0.0141 - learning_rate: 1.0000e-08\n",
      "Epoch 18/20\n",
      "\u001b[1m320/320\u001b[0m \u001b[32m━━━━━━━━━━━━━━━━━━━━\u001b[0m\u001b[37m\u001b[0m \u001b[1m1523s\u001b[0m 5s/step - accuracy: 0.1869 - loss: 13.4404 - precision: 0.2020 - recall: 0.0731 - val_accuracy: 0.3700 - val_loss: 12.5993 - val_precision: 0.1937 - val_recall: 0.0145 - learning_rate: 1.0000e-08\n",
      "Epoch 19/20\n",
      "\u001b[1m320/320\u001b[0m \u001b[32m━━━━━━━━━━━━━━━━━━━━\u001b[0m\u001b[37m\u001b[0m \u001b[1m1534s\u001b[0m 5s/step - accuracy: 0.1812 - loss: 13.4205 - precision: 0.1869 - recall: 0.0663 - val_accuracy: 0.3790 - val_loss: 12.5856 - val_precision: 0.1979 - val_recall: 0.0145 - learning_rate: 1.0000e-08\n",
      "Epoch 20/20\n",
      "\u001b[1m320/320\u001b[0m \u001b[32m━━━━━━━━━━━━━━━━━━━━\u001b[0m\u001b[37m\u001b[0m \u001b[1m3330s\u001b[0m 10s/step - accuracy: 0.1761 - loss: 13.4619 - precision: 0.1751 - recall: 0.0615 - val_accuracy: 0.3719 - val_loss: 12.5869 - val_precision: 0.2000 - val_recall: 0.0149 - learning_rate: 1.0000e-08\n"
     ]
    }
   ],
   "source": [
    "# Train the model\n",
    "history = model.fit(\n",
    "    train_generator,\n",
    "    epochs=20,\n",
    "    validation_data=val_generator,\n",
    "    callbacks=[LearningRateScheduler(lambda epoch, lr: lr * 0.1 if epoch % 5 == 0 else lr), ModelCheckpoint('best_model.keras', monitor='val_accuracy', save_best_only=True, mode='max')]\n",
    ")"
   ]
  },
  {
   "cell_type": "code",
   "execution_count": 52,
   "id": "f6cf86b7-07e4-44f3-80ab-a64f22808db6",
   "metadata": {
    "scrolled": true
   },
   "outputs": [
    {
     "name": "stdout",
     "output_type": "stream",
     "text": [
      "\u001b[1m80/80\u001b[0m \u001b[32m━━━━━━━━━━━━━━━━━━━━\u001b[0m\u001b[37m\u001b[0m \u001b[1m272s\u001b[0m 3s/step - accuracy: 0.3623 - loss: 12.5916 - precision_2: 0.2110 - recall_2: 0.0166\n",
      "Test Loss: 12.58687973022461, Test Accuracy: 0.37192022800445557\n"
     ]
    }
   ],
   "source": [
    "# Evaluate on the test set\n",
    "results = model.evaluate(val_generator)\n",
    "print(f\"Test Loss: {results[0]}, Test Accuracy: {results[1]}\")"
   ]
  },
  {
   "cell_type": "code",
   "execution_count": 54,
   "id": "f29ca54e-45a0-4428-9c3f-80cccc055e3b",
   "metadata": {},
   "outputs": [
    {
     "name": "stdout",
     "output_type": "stream",
     "text": [
      "* Running on local URL:  http://127.0.0.1:7860\n",
      "\n",
      "To create a public link, set `share=True` in `launch()`.\n"
     ]
    },
    {
     "data": {
      "text/html": [
       "<div><iframe src=\"http://127.0.0.1:7860/\" width=\"100%\" height=\"500\" allow=\"autoplay; camera; microphone; clipboard-read; clipboard-write;\" frameborder=\"0\" allowfullscreen></iframe></div>"
      ],
      "text/plain": [
       "<IPython.core.display.HTML object>"
      ]
     },
     "metadata": {},
     "output_type": "display_data"
    },
    {
     "data": {
      "text/plain": []
     },
     "execution_count": 54,
     "metadata": {},
     "output_type": "execute_result"
    }
   ],
   "source": [
    "import gradio as gr\n",
    "\n",
    "# Function to predict the class of an uploaded image\n",
    "def predict_image(image):\n",
    "    image = cv2.resize(image, (224, 224))\n",
    "    image = np.expand_dims(image, axis=0) / 255.0\n",
    "    prediction = model.predict(image)\n",
    "    predicted_class = np.argmax(prediction, axis=1)\n",
    "    return encoder.inverse_transform(predicted_class)[0]\n",
    "\n",
    "# Create a Gradio interface\n",
    "interface = gr.Interface(\n",
    "    fn=predict_image,\n",
    "    inputs=gr.Image(label=\"Upload Retinal Fundus Image\"),\n",
    "    outputs=gr.Textbox(label=\"Predicted Disease\"),\n",
    "    title=\"Ocular Disease Recognition\",\n",
    "    description=\"Upload a retinal fundus image to predict the disease.\"\n",
    ")\n",
    "\n",
    "# Launch the interface\n",
    "interface.launch()"
   ]
  },
  {
   "cell_type": "code",
   "execution_count": 56,
   "id": "4d2ce556-eaeb-43ca-954e-255312d2bbc7",
   "metadata": {},
   "outputs": [],
   "source": [
    "# Original label mapping\n",
    "label_mapping = {\n",
    "    \"N\": \"Normal\",\n",
    "    \"D\": \"Diabetes\",\n",
    "    \"G\": \"Glaucoma\",\n",
    "    \"C\": \"Cataract\",\n",
    "    \"A\": \"Age-related Macular Degeneration\",\n",
    "    \"H\": \"Hypertension\",\n",
    "    \"M\": \"Pathological Myopia\",\n",
    "    \"O\": \"Other diseases/abnormalities\"\n",
    "}\n",
    "\n",
    "# Reverse mapping for numerical labels to disease names\n",
    "reverse_label_mapping = {i: label for i, label in enumerate(label_mapping.values())}"
   ]
  },
  {
   "cell_type": "code",
   "execution_count": 58,
   "id": "e99e88b2-b1aa-4550-9b31-090aec29bee4",
   "metadata": {},
   "outputs": [],
   "source": [
    "def predict_image(image):\n",
    "    # Resize and preprocess the image\n",
    "    image = cv2.resize(image, (224, 224))\n",
    "    image = np.expand_dims(image, axis=0) / 255.0\n",
    "\n",
    "    # Predict the class probabilities\n",
    "    prediction = model.predict(image)\n",
    "\n",
    "    # Get the predicted class index\n",
    "    predicted_class_index = np.argmax(prediction, axis=1)[0]\n",
    "\n",
    "    # Map the predicted index to the disease name\n",
    "    predicted_class_name = reverse_label_mapping[predicted_class_index]\n",
    "\n",
    "    return predicted_class_name"
   ]
  },
  {
   "cell_type": "code",
   "execution_count": 60,
   "id": "0e05e1d8-19ae-4eaa-b8d5-38182208e064",
   "metadata": {},
   "outputs": [
    {
     "name": "stdout",
     "output_type": "stream",
     "text": [
      "* Running on local URL:  http://127.0.0.1:7861\n",
      "\n",
      "To create a public link, set `share=True` in `launch()`.\n"
     ]
    },
    {
     "data": {
      "text/html": [
       "<div><iframe src=\"http://127.0.0.1:7861/\" width=\"100%\" height=\"500\" allow=\"autoplay; camera; microphone; clipboard-read; clipboard-write;\" frameborder=\"0\" allowfullscreen></iframe></div>"
      ],
      "text/plain": [
       "<IPython.core.display.HTML object>"
      ]
     },
     "metadata": {},
     "output_type": "display_data"
    },
    {
     "data": {
      "text/plain": []
     },
     "execution_count": 60,
     "metadata": {},
     "output_type": "execute_result"
    }
   ],
   "source": [
    "import gradio as gr\n",
    "\n",
    "# Define the Gradio interface\n",
    "interface = gr.Interface(\n",
    "    fn=predict_image,  # Use the updated prediction function\n",
    "    inputs=gr.Image(label=\"Upload Retinal Fundus Image\"),\n",
    "    outputs=gr.Textbox(label=\"Predicted Disease\"),\n",
    "    title=\"Ocular Disease Recognition\",\n",
    "    description=\"Upload a retinal fundus image to predict the disease.\"\n",
    ")\n",
    "\n",
    "# Launch the interface\n",
    "interface.launch()"
   ]
  },
  {
   "cell_type": "code",
   "execution_count": 62,
   "id": "b6544d7e-582e-4e4a-84b2-5eaa03e159cf",
   "metadata": {},
   "outputs": [
    {
     "name": "stdout",
     "output_type": "stream",
     "text": [
      "Requirement already satisfied: streamlit in c:\\users\\user\\anaconda3\\lib\\site-packages (1.37.1)Note: you may need to restart the kernel to use updated packages.\n",
      "\n",
      "Requirement already satisfied: altair<6,>=4.0 in c:\\users\\user\\anaconda3\\lib\\site-packages (from streamlit) (5.0.1)\n",
      "Requirement already satisfied: blinker<2,>=1.0.0 in c:\\users\\user\\anaconda3\\lib\\site-packages (from streamlit) (1.6.2)\n",
      "Requirement already satisfied: cachetools<6,>=4.0 in c:\\users\\user\\anaconda3\\lib\\site-packages (from streamlit) (5.3.3)\n",
      "Requirement already satisfied: click<9,>=7.0 in c:\\users\\user\\anaconda3\\lib\\site-packages (from streamlit) (8.1.7)\n",
      "Requirement already satisfied: numpy<3,>=1.20 in c:\\users\\user\\anaconda3\\lib\\site-packages (from streamlit) (1.26.4)\n",
      "Requirement already satisfied: packaging<25,>=20 in c:\\users\\user\\appdata\\roaming\\python\\python312\\site-packages (from streamlit) (24.1)\n",
      "Requirement already satisfied: pandas<3,>=1.3.0 in c:\\users\\user\\anaconda3\\lib\\site-packages (from streamlit) (2.2.2)\n",
      "Requirement already satisfied: pillow<11,>=7.1.0 in c:\\users\\user\\anaconda3\\lib\\site-packages (from streamlit) (10.4.0)\n",
      "Requirement already satisfied: protobuf<6,>=3.20 in c:\\users\\user\\anaconda3\\lib\\site-packages (from streamlit) (4.25.3)\n",
      "Requirement already satisfied: pyarrow>=7.0 in c:\\users\\user\\anaconda3\\lib\\site-packages (from streamlit) (16.1.0)\n",
      "Requirement already satisfied: requests<3,>=2.27 in c:\\users\\user\\anaconda3\\lib\\site-packages (from streamlit) (2.32.3)\n",
      "Requirement already satisfied: rich<14,>=10.14.0 in c:\\users\\user\\anaconda3\\lib\\site-packages (from streamlit) (13.7.1)\n",
      "Requirement already satisfied: tenacity<9,>=8.1.0 in c:\\users\\user\\anaconda3\\lib\\site-packages (from streamlit) (8.2.3)\n",
      "Requirement already satisfied: toml<2,>=0.10.1 in c:\\users\\user\\anaconda3\\lib\\site-packages (from streamlit) (0.10.2)\n",
      "Requirement already satisfied: typing-extensions<5,>=4.3.0 in c:\\users\\user\\anaconda3\\lib\\site-packages (from streamlit) (4.11.0)\n",
      "Requirement already satisfied: gitpython!=3.1.19,<4,>=3.0.7 in c:\\users\\user\\anaconda3\\lib\\site-packages (from streamlit) (3.1.43)\n",
      "Requirement already satisfied: pydeck<1,>=0.8.0b4 in c:\\users\\user\\anaconda3\\lib\\site-packages (from streamlit) (0.8.0)\n",
      "Requirement already satisfied: tornado<7,>=6.0.3 in c:\\users\\user\\appdata\\roaming\\python\\python312\\site-packages (from streamlit) (6.4.1)\n",
      "Requirement already satisfied: watchdog<5,>=2.1.5 in c:\\users\\user\\anaconda3\\lib\\site-packages (from streamlit) (4.0.1)\n",
      "Requirement already satisfied: jinja2 in c:\\users\\user\\anaconda3\\lib\\site-packages (from altair<6,>=4.0->streamlit) (3.1.4)\n",
      "Requirement already satisfied: jsonschema>=3.0 in c:\\users\\user\\anaconda3\\lib\\site-packages (from altair<6,>=4.0->streamlit) (4.23.0)\n",
      "Requirement already satisfied: toolz in c:\\users\\user\\anaconda3\\lib\\site-packages (from altair<6,>=4.0->streamlit) (0.12.0)\n",
      "Requirement already satisfied: colorama in c:\\users\\user\\appdata\\roaming\\python\\python312\\site-packages (from click<9,>=7.0->streamlit) (0.4.6)\n",
      "Requirement already satisfied: gitdb<5,>=4.0.1 in c:\\users\\user\\anaconda3\\lib\\site-packages (from gitpython!=3.1.19,<4,>=3.0.7->streamlit) (4.0.7)\n",
      "Requirement already satisfied: python-dateutil>=2.8.2 in c:\\users\\user\\appdata\\roaming\\python\\python312\\site-packages (from pandas<3,>=1.3.0->streamlit) (2.9.0.post0)\n",
      "Requirement already satisfied: pytz>=2020.1 in c:\\users\\user\\anaconda3\\lib\\site-packages (from pandas<3,>=1.3.0->streamlit) (2024.1)\n",
      "Requirement already satisfied: tzdata>=2022.7 in c:\\users\\user\\anaconda3\\lib\\site-packages (from pandas<3,>=1.3.0->streamlit) (2023.3)\n",
      "Requirement already satisfied: charset-normalizer<4,>=2 in c:\\users\\user\\anaconda3\\lib\\site-packages (from requests<3,>=2.27->streamlit) (3.3.2)\n",
      "Requirement already satisfied: idna<4,>=2.5 in c:\\users\\user\\anaconda3\\lib\\site-packages (from requests<3,>=2.27->streamlit) (3.7)\n",
      "Requirement already satisfied: urllib3<3,>=1.21.1 in c:\\users\\user\\anaconda3\\lib\\site-packages (from requests<3,>=2.27->streamlit) (2.2.3)\n",
      "Requirement already satisfied: certifi>=2017.4.17 in c:\\users\\user\\anaconda3\\lib\\site-packages (from requests<3,>=2.27->streamlit) (2024.8.30)\n",
      "Requirement already satisfied: markdown-it-py>=2.2.0 in c:\\users\\user\\anaconda3\\lib\\site-packages (from rich<14,>=10.14.0->streamlit) (2.2.0)\n",
      "Requirement already satisfied: pygments<3.0.0,>=2.13.0 in c:\\users\\user\\appdata\\roaming\\python\\python312\\site-packages (from rich<14,>=10.14.0->streamlit) (2.18.0)\n",
      "Requirement already satisfied: smmap<5,>=3.0.1 in c:\\users\\user\\anaconda3\\lib\\site-packages (from gitdb<5,>=4.0.1->gitpython!=3.1.19,<4,>=3.0.7->streamlit) (4.0.0)\n",
      "Requirement already satisfied: MarkupSafe>=2.0 in c:\\users\\user\\anaconda3\\lib\\site-packages (from jinja2->altair<6,>=4.0->streamlit) (2.1.3)\n",
      "Requirement already satisfied: attrs>=22.2.0 in c:\\users\\user\\anaconda3\\lib\\site-packages (from jsonschema>=3.0->altair<6,>=4.0->streamlit) (23.1.0)\n",
      "Requirement already satisfied: jsonschema-specifications>=2023.03.6 in c:\\users\\user\\anaconda3\\lib\\site-packages (from jsonschema>=3.0->altair<6,>=4.0->streamlit) (2023.7.1)\n",
      "Requirement already satisfied: referencing>=0.28.4 in c:\\users\\user\\anaconda3\\lib\\site-packages (from jsonschema>=3.0->altair<6,>=4.0->streamlit) (0.30.2)\n",
      "Requirement already satisfied: rpds-py>=0.7.1 in c:\\users\\user\\anaconda3\\lib\\site-packages (from jsonschema>=3.0->altair<6,>=4.0->streamlit) (0.10.6)\n",
      "Requirement already satisfied: mdurl~=0.1 in c:\\users\\user\\anaconda3\\lib\\site-packages (from markdown-it-py>=2.2.0->rich<14,>=10.14.0->streamlit) (0.1.0)\n",
      "Requirement already satisfied: six>=1.5 in c:\\users\\user\\appdata\\roaming\\python\\python312\\site-packages (from python-dateutil>=2.8.2->pandas<3,>=1.3.0->streamlit) (1.16.0)\n"
     ]
    }
   ],
   "source": [
    "pip install streamlit"
   ]
  },
  {
   "cell_type": "code",
   "execution_count": null,
   "id": "74f56f70-82b1-4c88-aca2-555316f670a6",
   "metadata": {},
   "outputs": [],
   "source": []
  }
 ],
 "metadata": {
  "kernelspec": {
   "display_name": "Python 3 (ipykernel)",
   "language": "python",
   "name": "python3"
  },
  "language_info": {
   "codemirror_mode": {
    "name": "ipython",
    "version": 3
   },
   "file_extension": ".py",
   "mimetype": "text/x-python",
   "name": "python",
   "nbconvert_exporter": "python",
   "pygments_lexer": "ipython3",
   "version": "3.12.7"
  }
 },
 "nbformat": 4,
 "nbformat_minor": 5
}
